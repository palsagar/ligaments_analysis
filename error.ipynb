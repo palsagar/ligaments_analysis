{
 "cells": [
  {
   "cell_type": "markdown",
   "metadata": {},
   "source": [
    "# PDF Fitting and Error bars\n",
    "\n",
    "We start off by importing the required libraries"
   ]
  },
  {
   "cell_type": "code",
   "execution_count": 2,
   "metadata": {},
   "outputs": [],
   "source": [
    "from IPython.core.interactiveshell import InteractiveShell\n",
    "\n",
    "# pretty print all cell's output and not just the last one\n",
    "InteractiveShell.ast_node_interactivity = \"all\"\n",
    "\n",
    "# Required libraries for data arrays, data manipulation, plotting etc\n",
    "import numpy as np\n",
    "import pandas as pd\n",
    "\n",
    "import seaborn as sns\n",
    "sns.set_context(\"poster\")\n",
    "sns.set(rc={'figure.figsize': (16, 9.)})\n",
    "sns.set_style(\"whitegrid\")\n",
    "\n",
    "import matplotlib.pyplot as plt\n",
    "%matplotlib inline\n",
    "%config InlineBackend.figure_format = 'retina'\n",
    "plt.rcParams['text.latex.preamble']=[r\"\\usepackage{lmodern}\",r'\\boldmath']\n",
    "\n",
    "\n",
    "#sns.set(style=\"white\", palette=\"muted\")\n",
    "#sns.set_context(\"paper\")\n"
   ]
  },
  {
   "cell_type": "markdown",
   "metadata": {},
   "source": [
    "## Data Import"
   ]
  },
  {
   "cell_type": "code",
   "execution_count": 3,
   "metadata": {},
   "outputs": [
    {
     "output_type": "execute_result",
     "data": {
      "text/plain": [
       "   Ohnesorge  aspect-ratio  cut-off  amplitude  time  tag  position  velocity  \\\n",
       "0       0.01            50      0.5        0.1     0    1   49.4770  0.000000   \n",
       "1       0.01            50      0.5        0.1     6    1   49.4352 -0.000002   \n",
       "2       0.01            50      0.5        0.1    12    1   49.2898  0.000295   \n",
       "3       0.01            50      0.5        0.1    18   13   93.7334 -0.081582   \n",
       "4       0.01            50      0.5        0.1    18   12   84.5200 -0.878589   \n",
       "\n",
       "       area  diameter       mass  separation  cells  \n",
       "0  100.8100  11.33220  761.60000    100.0000   7797  \n",
       "1  103.4560  11.48000  791.78400    100.0000    828  \n",
       "2  101.9160  11.39430  774.17600    100.0000   2487  \n",
       "3   10.3715   3.63485   25.13270     27.0941    190  \n",
       "4    1.8992   1.55543    1.96938      9.2134    181  "
      ],
      "text/html": "<div>\n<style scoped>\n    .dataframe tbody tr th:only-of-type {\n        vertical-align: middle;\n    }\n\n    .dataframe tbody tr th {\n        vertical-align: top;\n    }\n\n    .dataframe thead th {\n        text-align: right;\n    }\n</style>\n<table border=\"1\" class=\"dataframe\">\n  <thead>\n    <tr style=\"text-align: right;\">\n      <th></th>\n      <th>Ohnesorge</th>\n      <th>aspect-ratio</th>\n      <th>cut-off</th>\n      <th>amplitude</th>\n      <th>time</th>\n      <th>tag</th>\n      <th>position</th>\n      <th>velocity</th>\n      <th>area</th>\n      <th>diameter</th>\n      <th>mass</th>\n      <th>separation</th>\n      <th>cells</th>\n    </tr>\n  </thead>\n  <tbody>\n    <tr>\n      <td>0</td>\n      <td>0.01</td>\n      <td>50</td>\n      <td>0.5</td>\n      <td>0.1</td>\n      <td>0</td>\n      <td>1</td>\n      <td>49.4770</td>\n      <td>0.000000</td>\n      <td>100.8100</td>\n      <td>11.33220</td>\n      <td>761.60000</td>\n      <td>100.0000</td>\n      <td>7797</td>\n    </tr>\n    <tr>\n      <td>1</td>\n      <td>0.01</td>\n      <td>50</td>\n      <td>0.5</td>\n      <td>0.1</td>\n      <td>6</td>\n      <td>1</td>\n      <td>49.4352</td>\n      <td>-0.000002</td>\n      <td>103.4560</td>\n      <td>11.48000</td>\n      <td>791.78400</td>\n      <td>100.0000</td>\n      <td>828</td>\n    </tr>\n    <tr>\n      <td>2</td>\n      <td>0.01</td>\n      <td>50</td>\n      <td>0.5</td>\n      <td>0.1</td>\n      <td>12</td>\n      <td>1</td>\n      <td>49.2898</td>\n      <td>0.000295</td>\n      <td>101.9160</td>\n      <td>11.39430</td>\n      <td>774.17600</td>\n      <td>100.0000</td>\n      <td>2487</td>\n    </tr>\n    <tr>\n      <td>3</td>\n      <td>0.01</td>\n      <td>50</td>\n      <td>0.5</td>\n      <td>0.1</td>\n      <td>18</td>\n      <td>13</td>\n      <td>93.7334</td>\n      <td>-0.081582</td>\n      <td>10.3715</td>\n      <td>3.63485</td>\n      <td>25.13270</td>\n      <td>27.0941</td>\n      <td>190</td>\n    </tr>\n    <tr>\n      <td>4</td>\n      <td>0.01</td>\n      <td>50</td>\n      <td>0.5</td>\n      <td>0.1</td>\n      <td>18</td>\n      <td>12</td>\n      <td>84.5200</td>\n      <td>-0.878589</td>\n      <td>1.8992</td>\n      <td>1.55543</td>\n      <td>1.96938</td>\n      <td>9.2134</td>\n      <td>181</td>\n    </tr>\n  </tbody>\n</table>\n</div>"
     },
     "metadata": {},
     "execution_count": 3
    }
   ],
   "source": [
    "big_1 = pd.read_csv(\"../results\", sep=\" \")\n",
    "big_1.head()"
   ]
  },
  {
   "cell_type": "markdown",
   "metadata": {},
   "source": [
    "The **area** column is not actually area, but for the 3D axisymmetric solver, the `dv` volume element corresponds to volume per unit radian. Thus, all integral quantities (e.g. drop volume) need to be multiplied by a factor of $2\\pi$. \n",
    "\n",
    "> The volume of the ligaments in our case are $\\pi R^2 L$, where $R=1$. Thus, $\\pi L$ gives us the initial ligament volume, where $L=2\\Lambda$. "
   ]
  },
  {
   "cell_type": "code",
   "execution_count": 4,
   "metadata": {},
   "outputs": [
    {
     "output_type": "execute_result",
     "data": {
      "text/plain": [
       "   Ohnesorge  aspect-ratio  cut-off  amplitude  time  tag  position  velocity  \\\n",
       "0       0.01            50      0.5        0.1     0    1   49.4770  0.000000   \n",
       "1       0.01            50      0.5        0.1     6    1   49.4352 -0.000002   \n",
       "2       0.01            50      0.5        0.1    12    1   49.2898  0.000295   \n",
       "3       0.01            50      0.5        0.1    18   13   93.7334 -0.081582   \n",
       "4       0.01            50      0.5        0.1    18   12   84.5200 -0.878589   \n",
       "\n",
       "       area  diameter       mass  separation  cells  \n",
       "0  100.8100  11.33220  761.60000    100.0000   7797  \n",
       "1  103.4560  11.48000  791.78400    100.0000    828  \n",
       "2  101.9160  11.39430  774.17600    100.0000   2487  \n",
       "3   10.3715   3.63485   25.13270     27.0941    190  \n",
       "4    1.8992   1.55543    1.96938      9.2134    181  "
      ],
      "text/html": "<div>\n<style scoped>\n    .dataframe tbody tr th:only-of-type {\n        vertical-align: middle;\n    }\n\n    .dataframe tbody tr th {\n        vertical-align: top;\n    }\n\n    .dataframe thead th {\n        text-align: right;\n    }\n</style>\n<table border=\"1\" class=\"dataframe\">\n  <thead>\n    <tr style=\"text-align: right;\">\n      <th></th>\n      <th>Ohnesorge</th>\n      <th>aspect-ratio</th>\n      <th>cut-off</th>\n      <th>amplitude</th>\n      <th>time</th>\n      <th>tag</th>\n      <th>position</th>\n      <th>velocity</th>\n      <th>area</th>\n      <th>diameter</th>\n      <th>mass</th>\n      <th>separation</th>\n      <th>cells</th>\n    </tr>\n  </thead>\n  <tbody>\n    <tr>\n      <td>0</td>\n      <td>0.01</td>\n      <td>50</td>\n      <td>0.5</td>\n      <td>0.1</td>\n      <td>0</td>\n      <td>1</td>\n      <td>49.4770</td>\n      <td>0.000000</td>\n      <td>100.8100</td>\n      <td>11.33220</td>\n      <td>761.60000</td>\n      <td>100.0000</td>\n      <td>7797</td>\n    </tr>\n    <tr>\n      <td>1</td>\n      <td>0.01</td>\n      <td>50</td>\n      <td>0.5</td>\n      <td>0.1</td>\n      <td>6</td>\n      <td>1</td>\n      <td>49.4352</td>\n      <td>-0.000002</td>\n      <td>103.4560</td>\n      <td>11.48000</td>\n      <td>791.78400</td>\n      <td>100.0000</td>\n      <td>828</td>\n    </tr>\n    <tr>\n      <td>2</td>\n      <td>0.01</td>\n      <td>50</td>\n      <td>0.5</td>\n      <td>0.1</td>\n      <td>12</td>\n      <td>1</td>\n      <td>49.2898</td>\n      <td>0.000295</td>\n      <td>101.9160</td>\n      <td>11.39430</td>\n      <td>774.17600</td>\n      <td>100.0000</td>\n      <td>2487</td>\n    </tr>\n    <tr>\n      <td>3</td>\n      <td>0.01</td>\n      <td>50</td>\n      <td>0.5</td>\n      <td>0.1</td>\n      <td>18</td>\n      <td>13</td>\n      <td>93.7334</td>\n      <td>-0.081582</td>\n      <td>10.3715</td>\n      <td>3.63485</td>\n      <td>25.13270</td>\n      <td>27.0941</td>\n      <td>190</td>\n    </tr>\n    <tr>\n      <td>4</td>\n      <td>0.01</td>\n      <td>50</td>\n      <td>0.5</td>\n      <td>0.1</td>\n      <td>18</td>\n      <td>12</td>\n      <td>84.5200</td>\n      <td>-0.878589</td>\n      <td>1.8992</td>\n      <td>1.55543</td>\n      <td>1.96938</td>\n      <td>9.2134</td>\n      <td>181</td>\n    </tr>\n  </tbody>\n</table>\n</div>"
     },
     "metadata": {},
     "execution_count": 4
    },
    {
     "output_type": "execute_result",
     "data": {
      "text/plain": [
       "(100.1493065950002, 1.2641804703570183)"
      ]
     },
     "metadata": {},
     "execution_count": 4
    }
   ],
   "source": [
    "# slicing the old dataset\n",
    "# d1 : small amp - small aspect\n",
    "\n",
    "d1 = big_1.loc[(big_1.amplitude == 0.1) & (big_1['aspect-ratio'] == 50)]\n",
    "\n",
    "#viewing the new dataset\n",
    "d1.head()\n",
    "\n",
    "# Checking the volume of the ligaments at time T = 0, mean and std\n",
    "d1.area.loc[d1.time == 0].mean() , d1.area.loc[d1.time == 0].std()\n"
   ]
  },
  {
   "cell_type": "markdown",
   "metadata": {},
   "source": [
    "## Volume correction and diameter computation\n",
    "\n",
    "Now let us recompute the *volume* of the drops (\"area\"), by multiplying with $2\\pi$, and recompute the diameters using the new volumes. We create a function that applies this to the dataset. The **area** column in this dataset is already multiplied by $2.0$, thus we just need to further multiply by $\\pi$. "
   ]
  },
  {
   "cell_type": "code",
   "execution_count": 5,
   "metadata": {},
   "outputs": [],
   "source": [
    "# Create a function that modifies the volume (\"area\" column), then computes the new diameters\n",
    "def volume_3d(df):\n",
    "    df.area = df.area * np.pi\n",
    "    df.diameter = ((6.0*df.area)/np.pi)**(1.0/3.0)\n",
    "    return df"
   ]
  },
  {
   "cell_type": "code",
   "execution_count": 6,
   "metadata": {},
   "outputs": [
    {
     "output_type": "execute_result",
     "data": {
      "text/plain": [
       "   Ohnesorge  aspect-ratio  cut-off  amplitude  time   tag  position  \\\n",
       "0       0.01          50.0      0.5        0.1   0.0   1.0   49.4770   \n",
       "1       0.01          50.0      0.5        0.1   6.0   1.0   49.4352   \n",
       "2       0.01          50.0      0.5        0.1  12.0   1.0   49.2898   \n",
       "3       0.01          50.0      0.5        0.1  18.0  13.0   93.7334   \n",
       "4       0.01          50.0      0.5        0.1  18.0  12.0   84.5200   \n",
       "\n",
       "   velocity        area  diameter       mass  separation   cells  \n",
       "0  0.000000  316.703955  8.457038  761.60000    100.0000  7797.0  \n",
       "1 -0.000002  325.016610  8.530392  791.78400    100.0000   828.0  \n",
       "2  0.000295  320.178557  8.487853  774.17600    100.0000  2487.0  \n",
       "3 -0.081582   32.583028  3.962759   25.13270     27.0941   190.0  \n",
       "4 -0.878589    5.966513  2.250301    1.96938      9.2134   181.0  "
      ],
      "text/html": "<div>\n<style scoped>\n    .dataframe tbody tr th:only-of-type {\n        vertical-align: middle;\n    }\n\n    .dataframe tbody tr th {\n        vertical-align: top;\n    }\n\n    .dataframe thead th {\n        text-align: right;\n    }\n</style>\n<table border=\"1\" class=\"dataframe\">\n  <thead>\n    <tr style=\"text-align: right;\">\n      <th></th>\n      <th>Ohnesorge</th>\n      <th>aspect-ratio</th>\n      <th>cut-off</th>\n      <th>amplitude</th>\n      <th>time</th>\n      <th>tag</th>\n      <th>position</th>\n      <th>velocity</th>\n      <th>area</th>\n      <th>diameter</th>\n      <th>mass</th>\n      <th>separation</th>\n      <th>cells</th>\n    </tr>\n  </thead>\n  <tbody>\n    <tr>\n      <td>0</td>\n      <td>0.01</td>\n      <td>50.0</td>\n      <td>0.5</td>\n      <td>0.1</td>\n      <td>0.0</td>\n      <td>1.0</td>\n      <td>49.4770</td>\n      <td>0.000000</td>\n      <td>316.703955</td>\n      <td>8.457038</td>\n      <td>761.60000</td>\n      <td>100.0000</td>\n      <td>7797.0</td>\n    </tr>\n    <tr>\n      <td>1</td>\n      <td>0.01</td>\n      <td>50.0</td>\n      <td>0.5</td>\n      <td>0.1</td>\n      <td>6.0</td>\n      <td>1.0</td>\n      <td>49.4352</td>\n      <td>-0.000002</td>\n      <td>325.016610</td>\n      <td>8.530392</td>\n      <td>791.78400</td>\n      <td>100.0000</td>\n      <td>828.0</td>\n    </tr>\n    <tr>\n      <td>2</td>\n      <td>0.01</td>\n      <td>50.0</td>\n      <td>0.5</td>\n      <td>0.1</td>\n      <td>12.0</td>\n      <td>1.0</td>\n      <td>49.2898</td>\n      <td>0.000295</td>\n      <td>320.178557</td>\n      <td>8.487853</td>\n      <td>774.17600</td>\n      <td>100.0000</td>\n      <td>2487.0</td>\n    </tr>\n    <tr>\n      <td>3</td>\n      <td>0.01</td>\n      <td>50.0</td>\n      <td>0.5</td>\n      <td>0.1</td>\n      <td>18.0</td>\n      <td>13.0</td>\n      <td>93.7334</td>\n      <td>-0.081582</td>\n      <td>32.583028</td>\n      <td>3.962759</td>\n      <td>25.13270</td>\n      <td>27.0941</td>\n      <td>190.0</td>\n    </tr>\n    <tr>\n      <td>4</td>\n      <td>0.01</td>\n      <td>50.0</td>\n      <td>0.5</td>\n      <td>0.1</td>\n      <td>18.0</td>\n      <td>12.0</td>\n      <td>84.5200</td>\n      <td>-0.878589</td>\n      <td>5.966513</td>\n      <td>2.250301</td>\n      <td>1.96938</td>\n      <td>9.2134</td>\n      <td>181.0</td>\n    </tr>\n  </tbody>\n</table>\n</div>"
     },
     "metadata": {},
     "execution_count": 6
    }
   ],
   "source": [
    "d1_new = d1.apply(volume_3d, axis='columns')\n",
    "d1_new.head()"
   ]
  },
  {
   "cell_type": "markdown",
   "metadata": {},
   "source": [
    "Now we extract the diameters column from the huge dataset. "
   ]
  },
  {
   "cell_type": "code",
   "execution_count": 98,
   "metadata": {},
   "outputs": [
    {
     "output_type": "execute_result",
     "data": {
      "text/plain": [
       "(265466,)"
      ]
     },
     "metadata": {},
     "execution_count": 98
    }
   ],
   "source": [
    "# choose the time slice for the droplet ensemble\n",
    "time = 18\n",
    "\n",
    "# assign the corresponding droplet ensemble to a new numpy array\n",
    "D = d1_new.diameter[d1_new.time == time].to_numpy()\n",
    "np.shape(D)"
   ]
  },
  {
   "cell_type": "markdown",
   "metadata": {},
   "source": [
    "Let us do a check by plotting the histogram for `D`. "
   ]
  },
  {
   "cell_type": "code",
   "execution_count": 99,
   "metadata": {},
   "outputs": [
    {
     "output_type": "display_data",
     "data": {
      "text/plain": "<Figure size 432x432 with 1 Axes>",
      "image/png": "[encoded data removed]"
     },
     "metadata": {
      "image/png": {
       "width": 393,
       "height": 360
      },
      "needs_background": "light"
     }
    }
   ],
   "source": [
    "plt.figure(figsize=(6,6))\n",
    "plt.hist(D,bins=25) ; "
   ]
  },
  {
   "cell_type": "code",
   "execution_count": 100,
   "metadata": {},
   "outputs": [
    {
     "output_type": "stream",
     "name": "stdout",
     "text": [
      "1.7599828143343954 0.0019010217804395347\n"
     ]
    }
   ],
   "source": [
    "print(np.mean(sample), np.std(sample))"
   ]
  },
  {
   "cell_type": "markdown",
   "metadata": {},
   "source": [
    "## Bootstrap resampling of bin-heights"
   ]
  },
  {
   "cell_type": "code",
   "execution_count": 101,
   "metadata": {},
   "outputs": [],
   "source": [
    "def ensemble_heights(data, size_per_sample, n_samples , n_bins):\n",
    "    \n",
    "    ensemble_list = [] # create the empty list for creating the ensemble\n",
    "    mean_heights_ensemble = []\n",
    "\n",
    "    for _ in range(n_samples): \n",
    "        sample_n = np.random.choice(D, size = size_per_sample)\n",
    "        heights_sample_n , bins_sample_n = np.histogram(sample_n, bins=n_bins)\n",
    "        ensemble_list.append(heights_sample_n)\n",
    "\n",
    "    heights_ensemble = np.array(ensemble_list)\n",
    "    \n",
    "    for i in range(n_bins):\n",
    "        mean_height_bin_n = np.mean(heights_ensemble[:,i])\n",
    "        mean_heights_ensemble.append(mean_height_bin_n)\n",
    "\n",
    "    return np.array(mean_heights_ensemble)"
   ]
  },
  {
   "cell_type": "code",
   "execution_count": 102,
   "metadata": {},
   "outputs": [],
   "source": [
    "def ensemble_error_heights(n_bootstrap, data , size_per_sample , n_samples, n_bins):\n",
    "\n",
    "    bootstrap_list = []\n",
    "\n",
    "    for i in range(n_bootstrap):\n",
    "        mean_heights_ensemble_n = ensemble_heights(data , size_per_sample , n_samples, n_bins)\n",
    "        bootstrap_list.append(mean_heights_ensemble_n)\n",
    "\n",
    "    mean_heights_bootstrap = np.array(bootstrap_list)\n",
    "\n",
    "    error_heights_bootstrap = []\n",
    "    \n",
    "    for i in range(n_bins):\n",
    "        error_mean_height_bin_n = np.std(mean_heights_bootstrap[:,i])\n",
    "        error_heights_bootstrap.append(error_mean_height_bin_n)\n",
    "\n",
    "    standard_error_mean_heights = np.array(error_heights_bootstrap)\n",
    "\n",
    "    return standard_error_mean_heights"
   ]
  },
  {
   "cell_type": "code",
   "execution_count": 103,
   "metadata": {},
   "outputs": [
    {
     "output_type": "stream",
     "name": "stdout",
     "text": [
      "[   7.06   19.46  206.68 1020.56 1123.04  475.08  175.16   73.9    43.56\n   32.26   34.74   58.32  210.32 1174.52 2299.86 1361.02  624.6   597.52\n  321.56   93.86   25.     11.2     5.16    3.12    2.44]\n"
     ]
    }
   ],
   "source": [
    "a = ensemble_heights(D,10000 , 50 , 25)\n",
    "print(a)"
   ]
  },
  {
   "cell_type": "code",
   "execution_count": 104,
   "metadata": {},
   "outputs": [
    {
     "output_type": "stream",
     "name": "stdout",
     "text": [
      "[3.56001019e+00 5.80949191e+00 1.00995621e+02 4.56696878e+02\n 1.85622417e+02 2.66832725e+02 8.13593133e+01 2.46022204e+01\n 9.05687903e+00 4.42520596e+00 1.07136821e+01 5.24981103e+01\n 5.17978691e+02 1.33607298e+03 1.28487561e+03 4.17193662e+02\n 2.16421359e+02 4.67936566e+02 8.26745087e+01 3.03670927e+01\n 5.07336130e+00 4.61475586e+00 1.49951273e+00 1.23650023e+00\n 5.16186606e-01] (25,)\n"
     ]
    }
   ],
   "source": [
    "error = ensemble_error_heights(50 , D , 100000 , 100 , 25)\n",
    "print(1.96*error, np.shape(error))"
   ]
  },
  {
   "cell_type": "code",
   "execution_count": 105,
   "metadata": {},
   "outputs": [],
   "source": [
    "sample_new = np.random.choice(D, size = 100000)\n",
    "bins_2 = np.linspace(0.0, np.amax(sample_new), 26)\n",
    "\n",
    "bins_centers = np.array([0.5 * (bins_2[i] + bins_2[i+1]) for i in range(len(bins_2)-1)])\n",
    "\n",
    "#print(error_2)"
   ]
  },
  {
   "cell_type": "code",
   "execution_count": 94,
   "metadata": {},
   "outputs": [
    {
     "output_type": "execute_result",
     "data": {
      "text/plain": [
       "<Figure size 576x576 with 0 Axes>"
      ]
     },
     "metadata": {},
     "execution_count": 94
    },
    {
     "output_type": "execute_result",
     "data": {
      "text/plain": [
       "<ErrorbarContainer object of 3 artists>"
      ]
     },
     "metadata": {},
     "execution_count": 94
    },
    {
     "output_type": "display_data",
     "data": {
      "text/plain": "<Figure size 576x576 with 1 Axes>",
      "image/png": "[encoded data removed]"
     },
     "metadata": {
      "image/png": {
       "width": 489,
       "height": 468
      },
      "needs_background": "light"
     }
    }
   ],
   "source": [
    "plt.figure(figsize=(8,8))\n",
    "plt.errorbar(bins_centers, heights, yerr= 1.96 * error, marker = 'o', markersize = 3.0 , \n",
    "            linestyle = 'none', elinewidth=0.5, capsize=3.0);\n",
    "plt.yscale('log', basey = 10);\n",
    "plt.savefig(\"test_2.png\", dpi= 200)\n",
    "\n",
    "#plt.axvline(3.8)\n",
    "\n",
    "#print(heights);\n",
    "#print(errors);\n"
   ]
  },
  {
   "cell_type": "markdown",
   "metadata": {},
   "source": [
    "## Things to do : \n",
    "- rescale by 2.0 for all diameters \n",
    "- redo analysis and replot for other time slices\n",
    "- compute PDFs and fit near tail region"
   ]
  },
  {
   "cell_type": "code",
   "execution_count": null,
   "metadata": {},
   "outputs": [],
   "source": []
  }
 ],
 "metadata": {
  "kernelspec": {
   "display_name": "Python 3",
   "language": "python",
   "name": "python3"
  },
  "language_info": {
   "codemirror_mode": {
    "name": "ipython",
    "version": 3
   },
   "file_extension": ".py",
   "mimetype": "text/x-python",
   "name": "python",
   "nbconvert_exporter": "python",
   "pygments_lexer": "ipython3",
   "version": "3.7.4-final"
  }
 },
 "nbformat": 4,
 "nbformat_minor": 4
}