{
 "cells": [
  {
   "cell_type": "markdown",
   "metadata": {},
   "source": [
    "# PDF Fitting and Error bars\n",
    "\n",
    "We start off by importing the required libraries"
   ]
  },
  {
   "cell_type": "code",
   "execution_count": 1,
   "metadata": {},
   "outputs": [],
   "source": [
    "from IPython.core.interactiveshell import InteractiveShell\n",
    "\n",
    "# pretty print all cell's output and not just the last one\n",
    "InteractiveShell.ast_node_interactivity = \"all\"\n",
    "\n",
    "# Required libraries for data arrays, data manipulation, plotting etc\n",
    "import numpy as np\n",
    "import pandas as pd\n",
    "\n",
    "import seaborn as sns\n",
    "sns.set_context(\"poster\")\n",
    "sns.set(rc={'figure.figsize': (16, 9.)})\n",
    "sns.set_style(\"whitegrid\")\n",
    "\n",
    "import matplotlib.pyplot as plt\n",
    "%matplotlib inline\n",
    "%config InlineBackend.figure_format = 'retina'\n",
    "plt.rcParams['text.latex.preamble']=[r\"\\usepackage{lmodern}\",r'\\boldmath']\n",
    "\n",
    "\n",
    "#sns.set(style=\"white\", palette=\"muted\")\n",
    "#sns.set_context(\"paper\")\n"
   ]
  },
  {
   "cell_type": "markdown",
   "metadata": {},
   "source": [
    "## Data Import"
   ]
  },
  {
   "cell_type": "code",
   "execution_count": 2,
   "metadata": {},
   "outputs": [
    {
     "data": {
      "text/html": [
       "<div>\n",
       "<style scoped>\n",
       "    .dataframe tbody tr th:only-of-type {\n",
       "        vertical-align: middle;\n",
       "    }\n",
       "\n",
       "    .dataframe tbody tr th {\n",
       "        vertical-align: top;\n",
       "    }\n",
       "\n",
       "    .dataframe thead th {\n",
       "        text-align: right;\n",
       "    }\n",
       "</style>\n",
       "<table border=\"1\" class=\"dataframe\">\n",
       "  <thead>\n",
       "    <tr style=\"text-align: right;\">\n",
       "      <th></th>\n",
       "      <th>Ohnesorge</th>\n",
       "      <th>aspect-ratio</th>\n",
       "      <th>cut-off</th>\n",
       "      <th>amplitude</th>\n",
       "      <th>time</th>\n",
       "      <th>tag</th>\n",
       "      <th>position</th>\n",
       "      <th>velocity</th>\n",
       "      <th>area</th>\n",
       "      <th>diameter</th>\n",
       "      <th>mass</th>\n",
       "      <th>separation</th>\n",
       "      <th>cells</th>\n",
       "    </tr>\n",
       "  </thead>\n",
       "  <tbody>\n",
       "    <tr>\n",
       "      <td>0</td>\n",
       "      <td>0.01</td>\n",
       "      <td>50</td>\n",
       "      <td>0.5</td>\n",
       "      <td>0.1</td>\n",
       "      <td>0</td>\n",
       "      <td>1</td>\n",
       "      <td>49.4770</td>\n",
       "      <td>0.000000</td>\n",
       "      <td>100.8100</td>\n",
       "      <td>11.33220</td>\n",
       "      <td>761.60000</td>\n",
       "      <td>100.0000</td>\n",
       "      <td>7797</td>\n",
       "    </tr>\n",
       "    <tr>\n",
       "      <td>1</td>\n",
       "      <td>0.01</td>\n",
       "      <td>50</td>\n",
       "      <td>0.5</td>\n",
       "      <td>0.1</td>\n",
       "      <td>6</td>\n",
       "      <td>1</td>\n",
       "      <td>49.4352</td>\n",
       "      <td>-0.000002</td>\n",
       "      <td>103.4560</td>\n",
       "      <td>11.48000</td>\n",
       "      <td>791.78400</td>\n",
       "      <td>100.0000</td>\n",
       "      <td>828</td>\n",
       "    </tr>\n",
       "    <tr>\n",
       "      <td>2</td>\n",
       "      <td>0.01</td>\n",
       "      <td>50</td>\n",
       "      <td>0.5</td>\n",
       "      <td>0.1</td>\n",
       "      <td>12</td>\n",
       "      <td>1</td>\n",
       "      <td>49.2898</td>\n",
       "      <td>0.000295</td>\n",
       "      <td>101.9160</td>\n",
       "      <td>11.39430</td>\n",
       "      <td>774.17600</td>\n",
       "      <td>100.0000</td>\n",
       "      <td>2487</td>\n",
       "    </tr>\n",
       "    <tr>\n",
       "      <td>3</td>\n",
       "      <td>0.01</td>\n",
       "      <td>50</td>\n",
       "      <td>0.5</td>\n",
       "      <td>0.1</td>\n",
       "      <td>18</td>\n",
       "      <td>13</td>\n",
       "      <td>93.7334</td>\n",
       "      <td>-0.081582</td>\n",
       "      <td>10.3715</td>\n",
       "      <td>3.63485</td>\n",
       "      <td>25.13270</td>\n",
       "      <td>27.0941</td>\n",
       "      <td>190</td>\n",
       "    </tr>\n",
       "    <tr>\n",
       "      <td>4</td>\n",
       "      <td>0.01</td>\n",
       "      <td>50</td>\n",
       "      <td>0.5</td>\n",
       "      <td>0.1</td>\n",
       "      <td>18</td>\n",
       "      <td>12</td>\n",
       "      <td>84.5200</td>\n",
       "      <td>-0.878589</td>\n",
       "      <td>1.8992</td>\n",
       "      <td>1.55543</td>\n",
       "      <td>1.96938</td>\n",
       "      <td>9.2134</td>\n",
       "      <td>181</td>\n",
       "    </tr>\n",
       "  </tbody>\n",
       "</table>\n",
       "</div>"
      ],
      "text/plain": [
       "   Ohnesorge  aspect-ratio  cut-off  amplitude  time  tag  position  velocity  \\\n",
       "0       0.01            50      0.5        0.1     0    1   49.4770  0.000000   \n",
       "1       0.01            50      0.5        0.1     6    1   49.4352 -0.000002   \n",
       "2       0.01            50      0.5        0.1    12    1   49.2898  0.000295   \n",
       "3       0.01            50      0.5        0.1    18   13   93.7334 -0.081582   \n",
       "4       0.01            50      0.5        0.1    18   12   84.5200 -0.878589   \n",
       "\n",
       "       area  diameter       mass  separation  cells  \n",
       "0  100.8100  11.33220  761.60000    100.0000   7797  \n",
       "1  103.4560  11.48000  791.78400    100.0000    828  \n",
       "2  101.9160  11.39430  774.17600    100.0000   2487  \n",
       "3   10.3715   3.63485   25.13270     27.0941    190  \n",
       "4    1.8992   1.55543    1.96938      9.2134    181  "
      ]
     },
     "execution_count": 2,
     "metadata": {},
     "output_type": "execute_result"
    }
   ],
   "source": [
    "big_1 = pd.read_csv(\"../results\", sep=\" \")\n",
    "big_1.head()"
   ]
  },
  {
   "cell_type": "markdown",
   "metadata": {},
   "source": [
    "The **area** column is not actually area, but for the 3D axisymmetric solver, the `dv` volume element corresponds to volume per unit radian. Thus, all integral quantities (e.g. drop volume) need to be multiplied by a factor of $2\\pi$. \n",
    "\n",
    "> The volume of the ligaments in our case are $\\pi R^2 L$, where $R=1$. Thus, $\\pi L$ gives us the initial ligament volume, where $L=2\\Lambda$. "
   ]
  },
  {
   "cell_type": "code",
   "execution_count": 4,
   "metadata": {},
   "outputs": [
    {
     "data": {
      "text/html": [
       "<div>\n",
       "<style scoped>\n",
       "    .dataframe tbody tr th:only-of-type {\n",
       "        vertical-align: middle;\n",
       "    }\n",
       "\n",
       "    .dataframe tbody tr th {\n",
       "        vertical-align: top;\n",
       "    }\n",
       "\n",
       "    .dataframe thead th {\n",
       "        text-align: right;\n",
       "    }\n",
       "</style>\n",
       "<table border=\"1\" class=\"dataframe\">\n",
       "  <thead>\n",
       "    <tr style=\"text-align: right;\">\n",
       "      <th></th>\n",
       "      <th>Ohnesorge</th>\n",
       "      <th>aspect-ratio</th>\n",
       "      <th>cut-off</th>\n",
       "      <th>amplitude</th>\n",
       "      <th>time</th>\n",
       "      <th>tag</th>\n",
       "      <th>position</th>\n",
       "      <th>velocity</th>\n",
       "      <th>area</th>\n",
       "      <th>diameter</th>\n",
       "      <th>mass</th>\n",
       "      <th>separation</th>\n",
       "      <th>cells</th>\n",
       "    </tr>\n",
       "  </thead>\n",
       "  <tbody>\n",
       "    <tr>\n",
       "      <td>0</td>\n",
       "      <td>0.01</td>\n",
       "      <td>50</td>\n",
       "      <td>0.5</td>\n",
       "      <td>0.1</td>\n",
       "      <td>0</td>\n",
       "      <td>1</td>\n",
       "      <td>49.4770</td>\n",
       "      <td>0.000000</td>\n",
       "      <td>100.8100</td>\n",
       "      <td>11.33220</td>\n",
       "      <td>761.60000</td>\n",
       "      <td>100.0000</td>\n",
       "      <td>7797</td>\n",
       "    </tr>\n",
       "    <tr>\n",
       "      <td>1</td>\n",
       "      <td>0.01</td>\n",
       "      <td>50</td>\n",
       "      <td>0.5</td>\n",
       "      <td>0.1</td>\n",
       "      <td>6</td>\n",
       "      <td>1</td>\n",
       "      <td>49.4352</td>\n",
       "      <td>-0.000002</td>\n",
       "      <td>103.4560</td>\n",
       "      <td>11.48000</td>\n",
       "      <td>791.78400</td>\n",
       "      <td>100.0000</td>\n",
       "      <td>828</td>\n",
       "    </tr>\n",
       "    <tr>\n",
       "      <td>2</td>\n",
       "      <td>0.01</td>\n",
       "      <td>50</td>\n",
       "      <td>0.5</td>\n",
       "      <td>0.1</td>\n",
       "      <td>12</td>\n",
       "      <td>1</td>\n",
       "      <td>49.2898</td>\n",
       "      <td>0.000295</td>\n",
       "      <td>101.9160</td>\n",
       "      <td>11.39430</td>\n",
       "      <td>774.17600</td>\n",
       "      <td>100.0000</td>\n",
       "      <td>2487</td>\n",
       "    </tr>\n",
       "    <tr>\n",
       "      <td>3</td>\n",
       "      <td>0.01</td>\n",
       "      <td>50</td>\n",
       "      <td>0.5</td>\n",
       "      <td>0.1</td>\n",
       "      <td>18</td>\n",
       "      <td>13</td>\n",
       "      <td>93.7334</td>\n",
       "      <td>-0.081582</td>\n",
       "      <td>10.3715</td>\n",
       "      <td>3.63485</td>\n",
       "      <td>25.13270</td>\n",
       "      <td>27.0941</td>\n",
       "      <td>190</td>\n",
       "    </tr>\n",
       "    <tr>\n",
       "      <td>4</td>\n",
       "      <td>0.01</td>\n",
       "      <td>50</td>\n",
       "      <td>0.5</td>\n",
       "      <td>0.1</td>\n",
       "      <td>18</td>\n",
       "      <td>12</td>\n",
       "      <td>84.5200</td>\n",
       "      <td>-0.878589</td>\n",
       "      <td>1.8992</td>\n",
       "      <td>1.55543</td>\n",
       "      <td>1.96938</td>\n",
       "      <td>9.2134</td>\n",
       "      <td>181</td>\n",
       "    </tr>\n",
       "  </tbody>\n",
       "</table>\n",
       "</div>"
      ],
      "text/plain": [
       "   Ohnesorge  aspect-ratio  cut-off  amplitude  time  tag  position  velocity  \\\n",
       "0       0.01            50      0.5        0.1     0    1   49.4770  0.000000   \n",
       "1       0.01            50      0.5        0.1     6    1   49.4352 -0.000002   \n",
       "2       0.01            50      0.5        0.1    12    1   49.2898  0.000295   \n",
       "3       0.01            50      0.5        0.1    18   13   93.7334 -0.081582   \n",
       "4       0.01            50      0.5        0.1    18   12   84.5200 -0.878589   \n",
       "\n",
       "       area  diameter       mass  separation  cells  \n",
       "0  100.8100  11.33220  761.60000    100.0000   7797  \n",
       "1  103.4560  11.48000  791.78400    100.0000    828  \n",
       "2  101.9160  11.39430  774.17600    100.0000   2487  \n",
       "3   10.3715   3.63485   25.13270     27.0941    190  \n",
       "4    1.8992   1.55543    1.96938      9.2134    181  "
      ]
     },
     "execution_count": 4,
     "metadata": {},
     "output_type": "execute_result"
    },
    {
     "data": {
      "text/plain": [
       "(100.1493065950002, 1.2641804703570183)"
      ]
     },
     "execution_count": 4,
     "metadata": {},
     "output_type": "execute_result"
    }
   ],
   "source": [
    "# slicing the old dataset\n",
    "# d1 : small amp - small aspect\n",
    "\n",
    "d1 = big_1.loc[(big_1.amplitude == 0.1) & (big_1['aspect-ratio'] == 50)]\n",
    "\n",
    "#viewing the new dataset\n",
    "d1.head()\n",
    "\n",
    "# Checking the volume of the ligaments at time T = 0, mean and std\n",
    "d1.area.loc[d1.time == 0].mean() , d1.area.loc[d1.time == 0].std()\n"
   ]
  },
  {
   "cell_type": "markdown",
   "metadata": {},
   "source": [
    "## Volume correction and diameter computation\n",
    "\n",
    "Now let us recompute the *volume* of the drops (\"area\"), by multiplying with $2\\pi$, and recompute the diameters using the new volumes. We create a function that applies this to the dataset. The **area** column in this dataset is already multiplied by $2.0$, thus we just need to further multiply by $\\pi$. "
   ]
  },
  {
   "cell_type": "code",
   "execution_count": 5,
   "metadata": {},
   "outputs": [],
   "source": [
    "# Create a function that modifies the volume (\"area\" column), then computes the new diameters\n",
    "def volume_3d(df):\n",
    "    df.area = df.area * np.pi\n",
    "    df.diameter = ((6.0*df.area)/np.pi)**(1.0/3.0)\n",
    "    return df"
   ]
  },
  {
   "cell_type": "code",
   "execution_count": 6,
   "metadata": {},
   "outputs": [
    {
     "data": {
      "text/html": [
       "<div>\n",
       "<style scoped>\n",
       "    .dataframe tbody tr th:only-of-type {\n",
       "        vertical-align: middle;\n",
       "    }\n",
       "\n",
       "    .dataframe tbody tr th {\n",
       "        vertical-align: top;\n",
       "    }\n",
       "\n",
       "    .dataframe thead th {\n",
       "        text-align: right;\n",
       "    }\n",
       "</style>\n",
       "<table border=\"1\" class=\"dataframe\">\n",
       "  <thead>\n",
       "    <tr style=\"text-align: right;\">\n",
       "      <th></th>\n",
       "      <th>Ohnesorge</th>\n",
       "      <th>aspect-ratio</th>\n",
       "      <th>cut-off</th>\n",
       "      <th>amplitude</th>\n",
       "      <th>time</th>\n",
       "      <th>tag</th>\n",
       "      <th>position</th>\n",
       "      <th>velocity</th>\n",
       "      <th>area</th>\n",
       "      <th>diameter</th>\n",
       "      <th>mass</th>\n",
       "      <th>separation</th>\n",
       "      <th>cells</th>\n",
       "    </tr>\n",
       "  </thead>\n",
       "  <tbody>\n",
       "    <tr>\n",
       "      <td>0</td>\n",
       "      <td>0.01</td>\n",
       "      <td>50.0</td>\n",
       "      <td>0.5</td>\n",
       "      <td>0.1</td>\n",
       "      <td>0.0</td>\n",
       "      <td>1.0</td>\n",
       "      <td>49.4770</td>\n",
       "      <td>0.000000</td>\n",
       "      <td>316.703955</td>\n",
       "      <td>8.457038</td>\n",
       "      <td>761.60000</td>\n",
       "      <td>100.0000</td>\n",
       "      <td>7797.0</td>\n",
       "    </tr>\n",
       "    <tr>\n",
       "      <td>1</td>\n",
       "      <td>0.01</td>\n",
       "      <td>50.0</td>\n",
       "      <td>0.5</td>\n",
       "      <td>0.1</td>\n",
       "      <td>6.0</td>\n",
       "      <td>1.0</td>\n",
       "      <td>49.4352</td>\n",
       "      <td>-0.000002</td>\n",
       "      <td>325.016610</td>\n",
       "      <td>8.530392</td>\n",
       "      <td>791.78400</td>\n",
       "      <td>100.0000</td>\n",
       "      <td>828.0</td>\n",
       "    </tr>\n",
       "    <tr>\n",
       "      <td>2</td>\n",
       "      <td>0.01</td>\n",
       "      <td>50.0</td>\n",
       "      <td>0.5</td>\n",
       "      <td>0.1</td>\n",
       "      <td>12.0</td>\n",
       "      <td>1.0</td>\n",
       "      <td>49.2898</td>\n",
       "      <td>0.000295</td>\n",
       "      <td>320.178557</td>\n",
       "      <td>8.487853</td>\n",
       "      <td>774.17600</td>\n",
       "      <td>100.0000</td>\n",
       "      <td>2487.0</td>\n",
       "    </tr>\n",
       "    <tr>\n",
       "      <td>3</td>\n",
       "      <td>0.01</td>\n",
       "      <td>50.0</td>\n",
       "      <td>0.5</td>\n",
       "      <td>0.1</td>\n",
       "      <td>18.0</td>\n",
       "      <td>13.0</td>\n",
       "      <td>93.7334</td>\n",
       "      <td>-0.081582</td>\n",
       "      <td>32.583028</td>\n",
       "      <td>3.962759</td>\n",
       "      <td>25.13270</td>\n",
       "      <td>27.0941</td>\n",
       "      <td>190.0</td>\n",
       "    </tr>\n",
       "    <tr>\n",
       "      <td>4</td>\n",
       "      <td>0.01</td>\n",
       "      <td>50.0</td>\n",
       "      <td>0.5</td>\n",
       "      <td>0.1</td>\n",
       "      <td>18.0</td>\n",
       "      <td>12.0</td>\n",
       "      <td>84.5200</td>\n",
       "      <td>-0.878589</td>\n",
       "      <td>5.966513</td>\n",
       "      <td>2.250301</td>\n",
       "      <td>1.96938</td>\n",
       "      <td>9.2134</td>\n",
       "      <td>181.0</td>\n",
       "    </tr>\n",
       "  </tbody>\n",
       "</table>\n",
       "</div>"
      ],
      "text/plain": [
       "   Ohnesorge  aspect-ratio  cut-off  amplitude  time   tag  position  \\\n",
       "0       0.01          50.0      0.5        0.1   0.0   1.0   49.4770   \n",
       "1       0.01          50.0      0.5        0.1   6.0   1.0   49.4352   \n",
       "2       0.01          50.0      0.5        0.1  12.0   1.0   49.2898   \n",
       "3       0.01          50.0      0.5        0.1  18.0  13.0   93.7334   \n",
       "4       0.01          50.0      0.5        0.1  18.0  12.0   84.5200   \n",
       "\n",
       "   velocity        area  diameter       mass  separation   cells  \n",
       "0  0.000000  316.703955  8.457038  761.60000    100.0000  7797.0  \n",
       "1 -0.000002  325.016610  8.530392  791.78400    100.0000   828.0  \n",
       "2  0.000295  320.178557  8.487853  774.17600    100.0000  2487.0  \n",
       "3 -0.081582   32.583028  3.962759   25.13270     27.0941   190.0  \n",
       "4 -0.878589    5.966513  2.250301    1.96938      9.2134   181.0  "
      ]
     },
     "execution_count": 6,
     "metadata": {},
     "output_type": "execute_result"
    }
   ],
   "source": [
    "d1_new = d1.apply(volume_3d, axis='columns')\n",
    "d1_new.head()"
   ]
  },
  {
   "cell_type": "markdown",
   "metadata": {},
   "source": [
    "Now we extract the diameters column from the huge dataset. "
   ]
  },
  {
   "cell_type": "code",
   "execution_count": 20,
   "metadata": {},
   "outputs": [
    {
     "data": {
      "text/plain": [
       "(211830,)"
      ]
     },
     "execution_count": 20,
     "metadata": {},
     "output_type": "execute_result"
    }
   ],
   "source": [
    "# choose the time slice for the droplet ensemble\n",
    "time = 24\n",
    "\n",
    "# assign the corresponding droplet ensemble to a new numpy array\n",
    "D = d1_new.diameter[d1_new.time == time].to_numpy()\n",
    "np.shape(D)"
   ]
  },
  {
   "cell_type": "markdown",
   "metadata": {},
   "source": [
    "Let us do a check by plotting the histogram for `D`. "
   ]
  },
  {
   "cell_type": "code",
   "execution_count": 21,
   "metadata": {},
   "outputs": [
    {
     "data": {
      "image/png": "[encoded data removed]",
      "text/plain": [
       "<Figure size 432x432 with 1 Axes>"
      ]
     },
     "metadata": {
      "image/png": {
       "height": 360,
       "width": 393
      },
      "needs_background": "light"
     },
     "output_type": "display_data"
    }
   ],
   "source": [
    "plt.figure(figsize=(6,6))\n",
    "plt.hist(D,bins=25) ; "
   ]
  },
  {
   "cell_type": "markdown",
   "metadata": {},
   "source": [
    "## Bootstrap resampling \n",
    "\n",
    "We pick a subset of the overall sample `D`, repeat this procedure and compute the distribution of the *means* of our smaller subsets. "
   ]
  },
  {
   "cell_type": "code",
   "execution_count": 60,
   "metadata": {},
   "outputs": [],
   "source": [
    "bins = np.linspace(0.0, np.amax(D),25)\n",
    "\n",
    "sample = []\n",
    "for _ in range(10000):\n",
    "    sample_n = np.random.choice(D, size=100000)\n",
    "    sample.append(sample_n.mean()/2.0)\n",
    "    "
   ]
  },
  {
   "cell_type": "code",
   "execution_count": 76,
   "metadata": {},
   "outputs": [
    {
     "data": {
      "image/png": "[encoded data removed]",
      "text/plain": [
       "<Figure size 432x288 with 1 Axes>"
      ]
     },
     "metadata": {
      "image/png": {
       "height": 251,
       "width": 386
      },
      "needs_background": "light"
     },
     "output_type": "display_data"
    }
   ],
   "source": [
    "plt.hist(sample);\n"
   ]
  },
  {
   "cell_type": "code",
   "execution_count": 62,
   "metadata": {},
   "outputs": [
    {
     "name": "stdout",
     "output_type": "stream",
     "text": [
      "1.7599819921981046 0.0019093407047200718\n"
     ]
    }
   ],
   "source": [
    "print(np.mean(sample), np.std(sample))"
   ]
  },
  {
   "cell_type": "markdown",
   "metadata": {},
   "source": [
    "## Bootstrap resampling of bin-heights"
   ]
  },
  {
   "cell_type": "code",
   "execution_count": 155,
   "metadata": {},
   "outputs": [],
   "source": [
    "bins_boot = []\n",
    "for _ in range(1000):\n",
    "    sample_n = np.random.choice(D,size=200000)\n",
    "    bin_entries_n , bin_edges_n = np.histogram(sample_n,bins=25)\n",
    "    bins_boot.append(bin_entries_n)\n"
   ]
  },
  {
   "cell_type": "code",
   "execution_count": 161,
   "metadata": {},
   "outputs": [
    {
     "data": {
      "text/plain": [
       "(array([632.,   1.,   3.,  15.,  89., 102.,  84.,  44.,  23.,   7.]),\n",
       " array([ 1. ,  6.1, 11.2, 16.3, 21.4, 26.5, 31.6, 36.7, 41.8, 46.9, 52. ]),\n",
       " <a list of 10 Patch objects>)"
      ]
     },
     "execution_count": 161,
     "metadata": {},
     "output_type": "execute_result"
    },
    {
     "data": {
      "image/png": "[encoded data removed]",
      "text/plain": [
       "<Figure size 432x288 with 1 Axes>"
      ]
     },
     "metadata": {
      "image/png": {
       "height": 251,
       "width": 379
      },
      "needs_background": "light"
     },
     "output_type": "display_data"
    }
   ],
   "source": [
    "D1 = np.array(bins_boot)\n",
    "\n",
    "bin_heights_mean = []\n",
    "bin_heights_std = []\n",
    "\n",
    "for i in range(25):\n",
    "    mean_i = np.mean(D1[:,i])\n",
    "    std_i = np.std(D1[:,i])\n",
    "    bin_heights_mean.append(mean_i)\n",
    "    bin_heights_std.append(std_i)   \n",
    "    \n",
    "plt.hist(D1[:,24])"
   ]
  },
  {
   "cell_type": "code",
   "execution_count": 157,
   "metadata": {},
   "outputs": [],
   "source": [
    "sample_new = np.random.choice(D, size = 100000)\n",
    "bins_1 = np.linspace(0.0, np.amax(sample_new), 25)\n",
    "bins_2 = np.linspace(0.0, np.amax(sample_new), 26)\n",
    "\n",
    "bins_centers = np.array([0.5 * (bins_2[i] + bins_2[i+1]) for i in range(len(bins_2)-1)])\n",
    "heights = np.array(bin_heights_mean)\n",
    "errors = np.array(bin_heights_std)"
   ]
  },
  {
   "cell_type": "code",
   "execution_count": 160,
   "metadata": {},
   "outputs": [
    {
     "name": "stdout",
     "output_type": "stream",
     "text": [
      "[1.0339600e+02 3.6688000e+01 1.5253100e+02 8.2265910e+03 1.8619162e+04\n",
      " 1.0476287e+04 3.6944150e+03 1.3622600e+03 5.5335100e+02 3.0088700e+02\n",
      " 2.3395100e+02 2.7979300e+02 5.2646500e+02 2.1170580e+03 1.8186516e+04\n",
      " 5.0680153e+04 2.9084735e+04 1.0885225e+04 1.9087192e+04 1.6492007e+04\n",
      " 5.1719010e+03 2.7198190e+03 9.2426500e+02 7.2472000e+01 1.2880000e+01]\n",
      "[1.04728785e+01 6.08774638e+00 7.40073580e+01 1.38406112e+03\n",
      " 4.60126445e+02 1.09619019e+03 4.13911417e+02 1.91028680e+02\n",
      " 6.51691016e+01 2.74388453e+01 2.02744321e+01 3.61402013e+01\n",
      " 1.12480900e+02 8.45146900e+02 8.76431591e+03 8.12892257e+03\n",
      " 1.32061445e+04 8.74890811e+02 5.21353487e+03 5.14930337e+03\n",
      " 2.96763867e+03 1.80622823e+02 1.00238585e+03 6.32456577e+01\n",
      " 1.43571446e+01]\n"
     ]
    },
    {
     "data": {
      "image/png": "[encoded data removed]",
      "text/plain": [
       "<Figure size 576x576 with 1 Axes>"
      ]
     },
     "metadata": {
      "image/png": {
       "height": 468,
       "width": 505
      },
      "needs_background": "light"
     },
     "output_type": "display_data"
    }
   ],
   "source": [
    "plt.figure(figsize=(8,8))\n",
    "plt.errorbar(bins_centers, heights, yerr=errors, marker = 'o', markersize = 5.0 , \n",
    "            linestyle = 'none', elinewidth=0.5, capsize=4.0);\n",
    "plt.axvline(3.8)\n",
    "#plt.yscale('log', basey = 10);\n",
    "print(heights);\n",
    "print(errors);\n"
   ]
  },
  {
   "cell_type": "markdown",
   "metadata": {},
   "source": [
    "## Things to do : \n",
    "- choose different sample size to reduce standard error\n",
    "- maybe change number of bins to get better error bars\n",
    "- rescale by 2.0 for all diameters \n",
    "- redo analysis and replot for other time slices\n",
    "- compute PDFs and fit near tail region"
   ]
  },
  {
   "cell_type": "code",
   "execution_count": null,
   "metadata": {},
   "outputs": [],
   "source": []
  }
 ],
 "metadata": {
  "kernelspec": {
   "display_name": "Python 3",
   "language": "python",
   "name": "python3"
  },
  "language_info": {
   "codemirror_mode": {
    "name": "ipython",
    "version": 3
   },
   "file_extension": ".py",
   "mimetype": "text/x-python",
   "name": "python",
   "nbconvert_exporter": "python",
   "pygments_lexer": "ipython3",
   "version": "3.7.4"
  }
 },
 "nbformat": 4,
 "nbformat_minor": 4
}
